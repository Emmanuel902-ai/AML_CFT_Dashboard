{
 "cells": [
  {
   "cell_type": "code",
   "execution_count": 14,
   "id": "1002bd2f",
   "metadata": {},
   "outputs": [
    {
     "name": "stdout",
     "output_type": "stream",
     "text": [
      "Requirement already satisfied: sqlalchemy in /home/students/miniconda3/envs/aims_cv_2025/lib/python3.8/site-packages (2.0.41)\n",
      "Requirement already satisfied: typing-extensions>=4.6.0 in /home/students/miniconda3/envs/aims_cv_2025/lib/python3.8/site-packages (from sqlalchemy) (4.12.2)\n",
      "Requirement already satisfied: greenlet>=1 in /home/students/miniconda3/envs/aims_cv_2025/lib/python3.8/site-packages (from sqlalchemy) (3.1.1)\n"
     ]
    }
   ],
   "source": [
    "!pip install sqlalchemy\n"
   ]
  },
  {
   "cell_type": "code",
   "execution_count": 15,
   "id": "4b3e1693",
   "metadata": {},
   "outputs": [
    {
     "name": "stdout",
     "output_type": "stream",
     "text": [
      "Requirement already satisfied: psycopg2-binary in /home/students/miniconda3/envs/aims_cv_2025/lib/python3.8/site-packages (2.9.10)\n",
      "Note: you may need to restart the kernel to use updated packages.\n"
     ]
    }
   ],
   "source": [
    "pip install psycopg2-binary\n"
   ]
  },
  {
   "cell_type": "code",
   "execution_count": 11,
   "id": "93a8c106",
   "metadata": {},
   "outputs": [
    {
     "data": {
      "text/plain": [
       "852"
      ]
     },
     "execution_count": 11,
     "metadata": {},
     "output_type": "execute_result"
    }
   ],
   "source": [
    "df.columns = df.columns.str.lower().str.strip()\n",
    "df.to_sql(\"transactions\", engine, if_exists=\"replace\", index=False)"
   ]
  },
  {
   "cell_type": "code",
   "execution_count": 16,
   "id": "aceccd42",
   "metadata": {},
   "outputs": [
    {
     "ename": "NameError",
     "evalue": "name 'run_query' is not defined",
     "output_type": "error",
     "traceback": [
      "\u001b[0;31m---------------------------------------------------------------------------\u001b[0m",
      "\u001b[0;31mNameError\u001b[0m                                 Traceback (most recent call last)",
      "Cell \u001b[0;32mIn[16], line 2\u001b[0m\n\u001b[1;32m      1\u001b[0m q \u001b[38;5;241m=\u001b[39m \u001b[38;5;124m\"\u001b[39m\u001b[38;5;124mSELECT COUNT(*) FROM transactions;\u001b[39m\u001b[38;5;124m\"\u001b[39m\n\u001b[0;32m----> 2\u001b[0m \u001b[38;5;28mprint\u001b[39m(\u001b[43mrun_query\u001b[49m(q))\n",
      "\u001b[0;31mNameError\u001b[0m: name 'run_query' is not defined"
     ]
    }
   ],
   "source": [
    "q = \"SELECT COUNT(*) FROM transactions;\"\n",
    "print(run_query(q))\n"
   ]
  },
  {
   "cell_type": "code",
   "execution_count": 12,
   "id": "393006bc",
   "metadata": {},
   "outputs": [
    {
     "name": "stdout",
     "output_type": "stream",
     "text": [
      "✅ Loaded dataset: 9,504,852 rows and 12 columns.\n",
      "✅ Data uploaded successfully to table: transactions\n"
     ]
    }
   ],
   "source": [
    "# 📦 Imports\n",
    "import pandas as pd\n",
    "from sqlalchemy import create_engine\n",
    "\n",
    "# Load your cleaned data\n",
    "df = pd.read_csv(\"/home/students/Documents/AML CFT_dashboard_project/notebooks/data/processed/cleaned_data.csv\")\n",
    "print(f\"✅ Loaded dataset: {df.shape[0]:,} rows and {df.shape[1]} columns.\")\n",
    "\n",
    "# 🔐 PostgreSQL credentials\n",
    "user = \"aml_user\"\n",
    "# IMPORTANT: Encode special characters like '@' as '%40'\n",
    "# my password is: Emmy1999@123 → encode '@' as '%40'\n",
    "password = \"Emmy1999%40123\"\n",
    "host = \"localhost\"\n",
    "port = \"5432\"\n",
    "database = \"aml_dashboard\"\n",
    "\n",
    "# 🔗 Build connection string\n",
    "db_url = f\"postgresql://{user}:{password}@{host}:{port}/{database}\"\n",
    "\n",
    "# 🚀 Create database engine\n",
    "engine = create_engine(db_url)\n",
    "\n",
    "# 🧠 Upload the DataFrame to PostgreSQL\n",
    "table_name = \"transactions\"\n",
    "df.to_sql(table_name, engine, if_exists=\"replace\", index=False)\n",
    "print(f\"✅ Data uploaded successfully to table: {table_name}\")\n"
   ]
  }
 ],
 "metadata": {
  "kernelspec": {
   "display_name": "aims_cv_2025",
   "language": "python",
   "name": "python3"
  },
  "language_info": {
   "codemirror_mode": {
    "name": "ipython",
    "version": 3
   },
   "file_extension": ".py",
   "mimetype": "text/x-python",
   "name": "python",
   "nbconvert_exporter": "python",
   "pygments_lexer": "ipython3",
   "version": "3.8.12"
  }
 },
 "nbformat": 4,
 "nbformat_minor": 5
}
